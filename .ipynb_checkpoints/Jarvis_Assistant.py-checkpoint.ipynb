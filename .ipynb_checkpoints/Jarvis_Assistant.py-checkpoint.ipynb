{
 "cells": [
  {
   "cell_type": "code",
   "execution_count": 1,
   "metadata": {},
   "outputs": [],
   "source": [
    "import pyttsx3\n",
    "import webbrowser\n",
    "from datetime import datetime as dt\n",
    "import wikipedia\n",
    "import speech_recognition as sr\n",
    "import pyaudio\n",
    "import os\n",
    "import numpy as np"
   ]
  },
  {
   "cell_type": "code",
   "execution_count": 2,
   "metadata": {},
   "outputs": [],
   "source": [
    "engine=pyttsx3.init('sapi5')"
   ]
  },
  {
   "cell_type": "code",
   "execution_count": 3,
   "metadata": {},
   "outputs": [],
   "source": [
    "voices=engine.getProperty('voices')"
   ]
  },
  {
   "cell_type": "code",
   "execution_count": 4,
   "metadata": {},
   "outputs": [],
   "source": [
    "engine.setProperty('voice',voices[0].id)"
   ]
  },
  {
   "cell_type": "code",
   "execution_count": 5,
   "metadata": {},
   "outputs": [],
   "source": [
    "def speak(audio):\n",
    "    engine.say(audio)\n",
    "    engine.runAndWait()"
   ]
  },
  {
   "cell_type": "code",
   "execution_count": 6,
   "metadata": {},
   "outputs": [],
   "source": [
    "def WishMe():\n",
    "    hour=int(dt.now().hour)\n",
    "    if hour>=0 and hour<12:\n",
    "        speak(\"Good Morning!\")\n",
    "    elif hour>=12 and hour<18:\n",
    "        speak(\"Good Afternoon!\")\n",
    "    else:\n",
    "        speak(\"Good Evening!\")\n",
    "    speak(\"I am Alexa. Sir, Please tell how may i help you?\")"
   ]
  },
  {
   "cell_type": "code",
   "execution_count": 7,
   "metadata": {},
   "outputs": [],
   "source": [
    "def takeCommand():\n",
    "    \"\"\"It takes microphone input and string output\"\"\"\n",
    "    r=sr.Recognizer()\n",
    "    with sr.Microphone() as source:\n",
    "        print(\"Listening...\")\n",
    "        r.pause_threshold=1\n",
    "        audio=r.listen(source)\n",
    "    try:\n",
    "        print(\"Recognizing...\")\n",
    "        query=r.recognize_google(audio,language='en-in')\n",
    "        print(f\"User said: {query}\\n\")\n",
    "    except Exception as e:\n",
    "        print(e)\n",
    "        print(\"Say That Again Please...\")\n",
    "        return \"None\"\n",
    "    return query"
   ]
  },
  {
   "cell_type": "code",
   "execution_count": 10,
   "metadata": {
    "scrolled": true
   },
   "outputs": [
    {
     "name": "stdout",
     "output_type": "stream",
     "text": [
      "Listening...\n",
      "Recognizing...\n",
      "User said: Word document\n",
      "\n",
      "Listening...\n",
      "Recognizing...\n",
      "\n",
      "Say That Again Please...\n",
      "Listening...\n",
      "Recognizing...\n",
      "\n",
      "Say That Again Please...\n",
      "Listening...\n",
      "Recognizing...\n",
      "\n",
      "Say That Again Please...\n",
      "Listening...\n",
      "Recognizing...\n",
      "User said: exit\n",
      "\n"
     ]
    }
   ],
   "source": [
    "WishMe()\n",
    "Check=True\n",
    "while Check :\n",
    "    query=takeCommand().lower()\n",
    "    if 'wikipedia' in query:\n",
    "        speak(\"Searching Wikipedia...\")\n",
    "        #query=query.replace(\"wikipedia\",\"\")\n",
    "        results=wikipedia.summary(query,sentences=2)\n",
    "        speak(\"According to wikipedia\")\n",
    "        print(results)\n",
    "        speak(results)\n",
    "    elif 'open youtube' in query:\n",
    "        webbrowser.open_new(\"youtube.com\")\n",
    "    elif 'open google' in query:\n",
    "        webbrowser.open_new(\"google.com\")\n",
    "    elif 'open stackoverflow' in query:\n",
    "        webbrowser.open_new(\"stackoverflow.com\")\n",
    "    elif 'play music' in query:\n",
    "        music_dir=\"C:\\\\Users\\\\ADMIN\\\\Desktop\\\\Music\\\\\"\n",
    "        songs=os.listdir(music_dir)\n",
    "        l=len(songs)\n",
    "        num=np.random.randint(l-1)\n",
    "        selected_song=songs[num]\n",
    "        os.startfile(os.path.join(music_dir,selected_song))\n",
    "    elif 'the time' in query:\n",
    "        strTime=dt.now()           ## Convert it into a readable form of time.\n",
    "        speak(f\"The time is {strTime}\")\n",
    "    elif 'word document' in query:\n",
    "        path_of_msword=\"C:\\\\Program Files\\\\Microsoft Office\\\\root\\\\Office16\\\\WINWORD.EXE\"\n",
    "        os.startfile(path_of_msword)\n",
    "    elif 'exit' in query:\n",
    "        speak(\"Thank You!, for approaching me. I hope i have provided the Appropriate service\")\n",
    "        Check=False\n",
    "        "
   ]
  },
  {
   "cell_type": "code",
   "execution_count": null,
   "metadata": {},
   "outputs": [],
   "source": []
  },
  {
   "cell_type": "code",
   "execution_count": null,
   "metadata": {},
   "outputs": [],
   "source": []
  }
 ],
 "metadata": {
  "kernelspec": {
   "display_name": "Python 3",
   "language": "python",
   "name": "python3"
  },
  "language_info": {
   "codemirror_mode": {
    "name": "ipython",
    "version": 3
   },
   "file_extension": ".py",
   "mimetype": "text/x-python",
   "name": "python",
   "nbconvert_exporter": "python",
   "pygments_lexer": "ipython3",
   "version": "3.7.6"
  }
 },
 "nbformat": 4,
 "nbformat_minor": 4
}
